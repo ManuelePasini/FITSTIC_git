{
 "cells": [
  {
   "cell_type": "code",
   "execution_count": null,
   "metadata": {},
   "outputs": [],
   "source": [
    "import mysql.connector\n",
    "\n",
    "config = {\n",
    "    'host': 'localhost',\n",
    "    'user': 'user',\n",
    "    'password': 'password',\n",
    "    'database': 'northwind'\n",
    "}"
   ]
  },
  {
   "cell_type": "code",
   "execution_count": null,
   "metadata": {},
   "outputs": [],
   "source": [
    "try:\n",
    "    conn = mysql.connector.connect(**config)\n",
    "\n",
    "    if conn.is_connected():\n",
    "        print('Connessione al database Northwind riuscita!')\n",
    "        cursor = conn.cursor()\n",
    "        cursor.execute(\"SELECT * FROM customers LIMIT 10\")\n",
    "        results = cursor.fetchall()\n",
    "        \n",
    "        for row in results:\n",
    "            print(row)\n",
    "\n",
    "except mysql.connector.Error as err:\n",
    "    print(f\"Errore durante la connessione al database MySQL: {err}\")\n",
    "\n",
    "finally:\n",
    "    if 'cursor' in locals():\n",
    "        cursor.close()\n",
    "    if 'conn' in locals() and conn.is_connected():\n",
    "        conn.close()\n",
    "        print('Connessione al database chiusa.')\n"
   ]
  }
 ],
 "metadata": {
  "language_info": {
   "name": "python"
  }
 },
 "nbformat": 4,
 "nbformat_minor": 2
}
