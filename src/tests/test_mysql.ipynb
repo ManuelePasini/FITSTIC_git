{
 "cells": [
  {
   "cell_type": "code",
   "execution_count": 1,
   "metadata": {},
   "outputs": [],
   "source": [
    "import mysql.connector\n",
    "from time import time\n",
    "\n",
    "config = {\n",
    "    'host': 'localhost',\n",
    "    'user': 'user',\n",
    "    'password': 'password',\n",
    "    'database': 'northwind'\n",
    "}"
   ]
  },
  {
   "cell_type": "code",
   "execution_count": 4,
   "metadata": {},
   "outputs": [
    {
     "name": "stdout",
     "output_type": "stream",
     "text": [
      "Connessione al database Northwind riuscita!\n",
      "Query duration = 0.0006470680236816406\n",
      "Connessione al database chiusa.\n",
      "Modified code.\n"
     ]
    }
   ],
   "source": [
    "try:\n",
    "    conn = mysql.connector.connect(user=config[\"user\"], host=config[\"host\"], password=config[\"password\"], database=config[\"database\"])\n",
    "\n",
    "    if conn.is_connected():\n",
    "        print('Connessione al database Northwind riuscita!')\n",
    "        cursor = conn.cursor()\n",
    "        start_time = time()\n",
    "        cursor.execute(\"SELECT PostalCode, count(*) FROM Employees group by PostalCode\")\n",
    "        result = cursor.fetchall()\n",
    "        duration = time() - start_time\n",
    "        \n",
    "        print(f\"Query duration = {duration}\")\n",
    "        results = cursor.fetchall()\n",
    "\n",
    "except mysql.connector.Error as err:\n",
    "    print(f\"Errore durante la connessione al database MySQL: {err}\")\n",
    "\n",
    "finally:\n",
    "    if 'cursor' in locals():\n",
    "        cursor.close()\n",
    "    if 'conn' in locals() and conn.is_connected():\n",
    "        conn.close()\n",
    "        print('Connessione al database chiusa.')\n",
    "\n",
    "print(\"Modified code.\")\n"
   ]
  },
  {
   "cell_type": "code",
   "execution_count": null,
   "metadata": {},
   "outputs": [],
   "source": []
  }
 ],
 "metadata": {
  "kernelspec": {
   "display_name": "Python 3",
   "language": "python",
   "name": "python3"
  },
  "language_info": {
   "codemirror_mode": {
    "name": "ipython",
    "version": 3
   },
   "file_extension": ".py",
   "mimetype": "text/x-python",
   "name": "python",
   "nbconvert_exporter": "python",
   "pygments_lexer": "ipython3",
   "version": "3.7.17"
  }
 },
 "nbformat": 4,
 "nbformat_minor": 2
}
